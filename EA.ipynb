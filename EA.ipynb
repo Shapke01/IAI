{
 "cells": [
  {
   "cell_type": "markdown",
   "metadata": {},
   "source": [
    "Please provide your names, last names, and student IDs."
   ]
  },
  {
   "cell_type": "markdown",
   "metadata": {},
   "source": [
    "* name 1, last name 1, student id 1\n",
    "* name 2, last name 2, student id 2 (when working in a pair)"
   ]
  },
  {
   "cell_type": "markdown",
   "metadata": {},
   "source": [
    "# EVOLUTIONARY ALGORITHMS"
   ]
  },
  {
   "cell_type": "markdown",
   "metadata": {},
   "source": [
    "This exercise consists of three parts. Finish the first part to get a mark of 3.0; the first two parts for 4.0. Complete all three parts to get 5.0."
   ]
  },
  {
   "cell_type": "code",
   "execution_count": 1,
   "metadata": {},
   "outputs": [],
   "source": [
    "import common as cm\n",
    "import numpy as np\n",
    "import matplotlib.pyplot as plt\n",
    "%matplotlib inline"
   ]
  },
  {
   "cell_type": "markdown",
   "metadata": {},
   "source": [
    "# Travelling Salesman Problem (TSP)"
   ]
  },
  {
   "cell_type": "markdown",
   "metadata": {},
   "source": [
    "There are N cities. In the TSP, we are looking for a **cycle passing through all the nodes (cities)** that is the shortest. **Cycle** means that (a) each city has to be visited only once and (b) we have to go back to the start city.\n",
    "\n",
    "Given is a distance matrix M=NxN, where $M[i][j]$ is a distance from the i-th to the j-th city.<br> \n",
    "In this exercise, we consider a symmetrical variant of TSP, i.e., $M[i][j] = M[j][i]$. Furhermore, $M[i][i] = 0$.<br> \n",
    "Let s=[3,1,...,5] be some N-element permutation of indices. <br> \n",
    "We want to find such a permutation that $\\sum_{k=2,...,N}M[s[k-1]][s[k]] + M[s[N]][s[1]]$ is optimal (minimal)."
   ]
  },
  {
   "cell_type": "markdown",
   "metadata": {},
   "source": [
    "This exercise consists of three parts. Finish the first part to get a mark of 3.0; the first two parts for 4.0. Complete all three parts to get 5.0."
   ]
  },
  {
   "cell_type": "markdown",
   "metadata": {},
   "source": [
    "# Part 1: Evolutionary algorithm"
   ]
  },
  {
   "cell_type": "markdown",
   "metadata": {},
   "source": [
    "### 1.1) Evaluation"
   ]
  },
  {
   "cell_type": "markdown",
   "metadata": {},
   "source": [
    "Complete the below function. It should evaluate an input solution (decision vector, vector of indices) in terms of TSP distance criterion. M is a distance matrix. Return the computed total distance."
   ]
  },
  {
   "cell_type": "code",
   "execution_count": 2,
   "metadata": {},
   "outputs": [
    {
     "name": "stdout",
     "output_type": "stream",
     "text": [
      "236.28476553372587\n",
      "236.28476553372587\n",
      "363.3878692639945\n"
     ]
    }
   ],
   "source": [
    "def getEvaluation(solution, M):\n",
    "    distance = 0\n",
    "    for i in range(len(solution)-1):\n",
    "        distance+=M[solution[i]][solution[i+1]]\n",
    "    ### TODO\n",
    "    return distance+M[solution[0]][solution[-1]]\n",
    "\n",
    "M = cm.getTutorialDistanceMatrix() ### AN EXAMPLE MATRIX\n",
    "print(getEvaluation([0,1,2,3,4,5], M)) ### SHOULD BE 236.28\n",
    "print(getEvaluation([5,4,3,2,1,0], M)) ### SHOULD BE THE SAME, IT IS A CYCLE :)\n",
    "print(getEvaluation([0,2,1,3,5,4], M))"
   ]
  },
  {
   "cell_type": "markdown",
   "metadata": {},
   "source": [
    "### 1.2) Validation"
   ]
  },
  {
   "cell_type": "markdown",
   "metadata": {},
   "source": [
    "This function can be used to validate the solution, i.e., to check if a given solution vector is of a proper size and to check if each element is unique."
   ]
  },
  {
   "cell_type": "code",
   "execution_count": 3,
   "metadata": {},
   "outputs": [
    {
     "name": "stdout",
     "output_type": "stream",
     "text": [
      "False\n",
      "True\n",
      "False\n",
      "False\n"
     ]
    }
   ],
   "source": [
    "def isValid(solution, cities):\n",
    "    if len(solution) != cities: return False\n",
    "    s = set(solution)\n",
    "    e = set([i for i in range(cities)])\n",
    "    if s==e: return True\n",
    "    else: return False\n",
    "    \n",
    "print(isValid([0,1,2,3,4,5,6], 6)) # FALSE\n",
    "print(isValid([0,1,2,3,4,5], 6)) # TRUE\n",
    "print(isValid([0,1,2,3,4,5,5], 6)) # FALSE\n",
    "print(isValid([0,1,1,2,3,2], 6)) # FALSE"
   ]
  },
  {
   "cell_type": "markdown",
   "metadata": {},
   "source": [
    "### 1.3) Initialization"
   ]
  },
  {
   "cell_type": "markdown",
   "metadata": {},
   "source": [
    "We need to create a population of solutions. These solutions - initially - can be generated randomly. \n",
    "Firstly, complete getRandomSolution function (cities = the number of cities considered in the TSP problem).\n",
    "It should generate a random permutation of [0,1,...,cities] vector. You can use np.random.shuffle function. Then, \n",
    "finish getInitialPopulation method. It should return a populationSize-element vector of pairs [distance, solution], where a solution is a random permutation of indices, and distance = the total distance (solution evaluation). "
   ]
  },
  {
   "cell_type": "code",
   "execution_count": 4,
   "metadata": {},
   "outputs": [
    {
     "name": "stdout",
     "output_type": "stream",
     "text": [
      "236.28476553372587 : [2, 1, 0, 5, 4, 3]\n",
      "437.8521511456447 : [5, 1, 3, 0, 2, 4]\n",
      "376.18729029016083 : [5, 2, 4, 3, 0, 1]\n",
      "342.49093235066744 : [3, 5, 4, 1, 2, 0]\n",
      "437.8521511456447 : [0, 3, 1, 5, 4, 2]\n",
      "294.6449810641092 : [4, 3, 2, 5, 1, 0]\n",
      "292.72419231057614 : [3, 4, 2, 1, 0, 5]\n",
      "348.368849836001 : [4, 5, 0, 2, 1, 3]\n",
      "354.58079631619785 : [1, 3, 4, 2, 5, 0]\n",
      "349.9479173857651 : [4, 0, 5, 3, 1, 2]\n"
     ]
    }
   ],
   "source": [
    "def getRandomSolution(cities):\n",
    "    s = [i for i in range(cities)]\n",
    "    ### TODO\n",
    "    np.random.shuffle(s)\n",
    "    return s\n",
    "\n",
    "def getInitialPopulation(populationSize, cities, M):\n",
    "    population = []\n",
    "    ### TODO\n",
    "    for i in range(populationSize):\n",
    "        x=getRandomSolution(cities)\n",
    "        population.append([getEvaluation(x,M),x])\n",
    "    return population\n",
    "\n",
    "def printPopulation(population):\n",
    "    for s in population:\n",
    "        print(str(s[0]) + \" : \" + str(s[1]))\n",
    "population = getInitialPopulation(10, 6, M)\n",
    "printPopulation(population)"
   ]
  },
  {
   "cell_type": "markdown",
   "metadata": {},
   "source": [
    "### 1.4) Sort population"
   ]
  },
  {
   "cell_type": "markdown",
   "metadata": {},
   "source": [
    "The below function should sort the population according to the distance, i.e., according to the first element of each pair. These should be ordered from the smallest to the largest.You can use .sort method and a lambda function."
   ]
  },
  {
   "cell_type": "code",
   "execution_count": 5,
   "metadata": {},
   "outputs": [
    {
     "name": "stdout",
     "output_type": "stream",
     "text": [
      "236.28476553372587 : [2, 1, 0, 5, 4, 3]\n",
      "292.72419231057614 : [3, 4, 2, 1, 0, 5]\n",
      "294.6449810641092 : [4, 3, 2, 5, 1, 0]\n",
      "342.49093235066744 : [3, 5, 4, 1, 2, 0]\n",
      "348.368849836001 : [4, 5, 0, 2, 1, 3]\n",
      "349.9479173857651 : [4, 0, 5, 3, 1, 2]\n",
      "354.58079631619785 : [1, 3, 4, 2, 5, 0]\n",
      "376.18729029016083 : [5, 2, 4, 3, 0, 1]\n",
      "437.8521511456447 : [5, 1, 3, 0, 2, 4]\n",
      "437.8521511456447 : [0, 3, 1, 5, 4, 2]\n"
     ]
    }
   ],
   "source": [
    "def sortPopulation(population):\n",
    "    population.sort(key=lambda x: x[0])\n",
    "    ### TODO\n",
    "\n",
    "sortPopulation(population)\n",
    "printPopulation(population)"
   ]
  },
  {
   "cell_type": "markdown",
   "metadata": {},
   "source": [
    "### 1.5) Summarize the population"
   ]
  },
  {
   "cell_type": "markdown",
   "metadata": {},
   "source": [
    "The below function should compute minimum, mean, and maximum value of the total distances of solutions in the population. Return these statistics as [min, mean, max] vector. "
   ]
  },
  {
   "cell_type": "code",
   "execution_count": 6,
   "metadata": {},
   "outputs": [
    {
     "name": "stdout",
     "output_type": "stream",
     "text": [
      "[236.28476553372587, 347.0934027378493, 437.8521511456447]\n"
     ]
    }
   ],
   "source": [
    "def getStats(population):\n",
    "    ### TODO\n",
    "    mean=sum([x[0] for x in population])/len(population)\n",
    "    return [population[0][0], mean, population[-1][0]]\n",
    "\n",
    "print(getStats(population))"
   ]
  },
  {
   "cell_type": "markdown",
   "metadata": {},
   "source": [
    "### 1.6) Tournament selection of size K"
   ]
  },
  {
   "cell_type": "markdown",
   "metadata": {},
   "source": [
    "You are asked to implement a tournament for parent selection (it is assumed that the population is already sorted). Firstly, complete getParentIndices method. It should return two random indices corresponding to selected parent solutions (e.g., [3, 5] etc.). Simply generate K random integers from [0,...,populationSize] and select the smallest index (as the solutions are ordered from the best to the worst). Repeat this process twice (we generate two parents) and return a vector [index1, index2]. Then, complete getMatingPool method. Usually, matingPoolSize = population size, i.e., we wish to generate an offspring population of size populationSize and thus we need to select such many pairs of parent solutions. This metod should return a vector of these pairs, e.g., [[2, 5], [9, 2], ..., [5, 7]]. "
   ]
  },
  {
   "cell_type": "code",
   "execution_count": 7,
   "metadata": {},
   "outputs": [
    {
     "name": "stdout",
     "output_type": "stream",
     "text": [
      "[[3, 2], [4, 3], [8, 1], [0, 2], [1, 6], [3, 0], [3, 7], [2, 7], [1, 6], [0, 1]]\n"
     ]
    }
   ],
   "source": [
    "def getParentIndices(populationSize, K):\n",
    "    parents = [0, 0]\n",
    "    x=[i for i in range(populationSize)]\n",
    "    for i in range(2):\n",
    "        np.random.shuffle(x)\n",
    "        k=x[:K]\n",
    "        k2=x[K:]\n",
    "        k.sort()\n",
    "        parents[i]=k[0]\n",
    "        k.pop(0)### I don't know if there is possible to have 2 the same parents\n",
    "        x=k+k2     \n",
    "    ### TODO\n",
    "    return parents\n",
    "def getMatingPool(matingPoolSize, populationSize, K):\n",
    "    matingPool = []\n",
    "    ### TODO\n",
    "    for i in range(matingPoolSize):\n",
    "        matingPool.append(getParentIndices(populationSize, K))\n",
    "    return matingPool\n",
    "     \n",
    "matingPool = getMatingPool(10, 10, 2)\n",
    "print(matingPool)"
   ]
  },
  {
   "cell_type": "markdown",
   "metadata": {},
   "source": [
    "**Question: How does the selection depend on K? Run the below code for different K and verify your thoughts. The plot illustrates how many times a solutions of a given rank was selected by the tournament selection of size K.** ANSWER: The higher K the better solutions we get. Too high K may lead to premature convergence."
   ]
  },
  {
   "cell_type": "code",
   "execution_count": 8,
   "metadata": {},
   "outputs": [
    {
     "data": {
      "image/png": "[encoded data removed]",
      "text/plain": [
       "<Figure size 432x288 with 1 Axes>"
      ]
     },
     "metadata": {
      "needs_background": "light"
     },
     "output_type": "display_data"
    }
   ],
   "source": [
    "def testTournament(matingPoolSize, populationSize, K):\n",
    "    testMatingPool = getMatingPool(matingPoolSize, populationSize, K)\n",
    "    cm.displayHistogram(plt, np, testMatingPool, populationSize)\n",
    "    \n",
    "testTournament(10000, 10, 2)"
   ]
  },
  {
   "cell_type": "markdown",
   "metadata": {},
   "source": [
    "### 1.7) Crossover operator"
   ]
  },
  {
   "cell_type": "markdown",
   "metadata": {},
   "source": [
    "Now, you are asked to implement the crossover operator. A and B are solutions (decision vectors). Let child be a new offspring solution (decision vector) and N is the number of cities.  Assume that the first N/2 elements of the child vector = the first N/2 elements of A, while the last N/2 elements of the child vector = the last N/2 elements of B. Obviously, such constructed solution may not be valid (use isValid) method. Repair this. You can, e.g., check (i) which indices are duplicated and (ii) which indices are missing. Then, you can replace one copy of each duplicate with one random missing index. "
   ]
  },
  {
   "cell_type": "code",
   "execution_count": 9,
   "metadata": {},
   "outputs": [
    {
     "name": "stdout",
     "output_type": "stream",
     "text": [
      "[0, 1, 2, 5, 3, 4]\n"
     ]
    }
   ],
   "source": [
    "def settt(A):\n",
    "    sett=[]\n",
    "    N=len(A)\n",
    "    A=set(A)\n",
    "    for i in range(N):\n",
    "        if i not in A:\n",
    "            sett.append(i)\n",
    "    np.random.shuffle(sett)\n",
    "    return sett\n",
    "def getCrossedOver(A, B):\n",
    "    N = len(A)//2\n",
    "    child = A[:N]+B[N:]\n",
    "    ### TODO\n",
    "    if not isValid(child,len(A)):\n",
    "        sett=settt(child)\n",
    "        for i in range(len(A[:N])):\n",
    "            for j in range(len(B[N:])):\n",
    "                if child[i]==child[len(A[:N])+j]:\n",
    "                    if np.random.random()<0.5:\n",
    "                        child[i]=sett.pop(0)\n",
    "                    else:\n",
    "                        child[len(A[:N])+j]=sett.pop(0)\n",
    "    return child\n",
    "\n",
    "### TEST\n",
    "print(getCrossedOver([0,1,2,3,4,5],[0,1,3,5,2,4]))"
   ]
  },
  {
   "cell_type": "markdown",
   "metadata": {},
   "source": [
    "### 1.8) Mutation operator"
   ]
  },
  {
   "cell_type": "markdown",
   "metadata": {},
   "source": [
    "Implement the mutation operator. Simply swap two random cities (indices). Apply this mutation with a certain probability (input argument)."
   ]
  },
  {
   "cell_type": "code",
   "execution_count": 10,
   "metadata": {},
   "outputs": [
    {
     "name": "stdout",
     "output_type": "stream",
     "text": [
      "[0, 1, 2, 4, 3, 5]\n",
      "[5, 1, 2, 3, 4, 0]\n",
      "[0, 1, 2, 3, 5, 4]\n",
      "[0, 1, 2, 5, 4, 3]\n",
      "[2, 1, 0, 3, 4, 5]\n",
      "[0, 1, 2, 5, 4, 3]\n",
      "[0, 2, 1, 3, 4, 5]\n",
      "[0, 5, 2, 3, 4, 1]\n",
      "[0, 3, 2, 1, 4, 5]\n",
      "[0, 1, 2, 3, 4, 5]\n"
     ]
    }
   ],
   "source": [
    "def mutate(solution, probability):\n",
    "    if np.random.random() < probability:\n",
    "        x=[i for i in range(len(solution))]\n",
    "        np.random.shuffle(x)\n",
    "        x=x[:2]\n",
    "        solution[x[0]],solution[x[1]]=solution[x[1]],solution[x[0]]\n",
    "        ### TODO\n",
    "    \n",
    "for i in range(10):\n",
    "    s= [0,1,2,3,4,5]\n",
    "    mutate(s, 0.9)\n",
    "    print(s)"
   ]
  },
  {
   "cell_type": "markdown",
   "metadata": {},
   "source": [
    "### 1.9) Create offspring"
   ]
  },
  {
   "cell_type": "markdown",
   "metadata": {},
   "source": [
    "Now, combine both operators. The below method should generate the offspring. For each pair of parent indices in matingPool, i.e., [index1, index2], take the corresponding solutions from the population and apply the crossover and mutation operators in order to generate a single offspring/child. Evaluate this solution, i.e., compute the total distance. Finally, add [distance, child] to children vector.   "
   ]
  },
  {
   "cell_type": "code",
   "execution_count": 11,
   "metadata": {},
   "outputs": [],
   "source": [
    "def getOffspring(population, matingPool, mutationProbability, M):\n",
    "    children = [] ### CHILDREN VECTOR\n",
    "    ### TODO\n",
    "    for pair in matingPool:\n",
    "        x=getCrossedOver(population[pair[0]][1],population[pair[1]][1])\n",
    "        mutate(x, mutationProbability)\n",
    "        fitness=getEvaluation(x, M)\n",
    "        children.append([fitness,x])\n",
    "    return children"
   ]
  },
  {
   "cell_type": "markdown",
   "metadata": {},
   "source": [
    "### 1.10) Evolutionary Algorithm"
   ]
  },
  {
   "cell_type": "markdown",
   "metadata": {},
   "source": [
    "Now, you are asked to combine all the previously completed methods into an evolutionary algorithm. This is the outline of the algorithm: <br>\n",
    "1) Create & evaluate an initial population of size \"populationSize\" <br>\n",
    "2) Sort the population <br>\n",
    "3) Construct a mating pool <br>\n",
    "4) Generate & evaluate an offspring of size \"populationSize\" <br>\n",
    "5) Merge the current population and the offspring <br>\n",
    "6) Sort such merged population <br>\n",
    "7) Remove the worst half of the population <br>\n",
    "8) Go to (2) until the stopping criterion is not meet (repeat for the assumed number of generations) <br>\n",
    "\n",
    "In each generation, compute & display the statistics on the current population. Finally, what is the best solution found by the method? Rerun the method for different parameters (e.g., population size) and check if you can improve the result."
   ]
  },
  {
   "cell_type": "code",
   "execution_count": 12,
   "metadata": {},
   "outputs": [
    {
     "name": "stdout",
     "output_type": "stream",
     "text": [
      "[236.28476553372585, 280.35504325229533, 322.0209288318988]\n",
      "[236.28476553372585, 263.5003907603583, 300.66518439416814]\n",
      "[236.28476553372585, 250.79116890123115, 258.1617535068781]\n",
      "[236.28476553372585, 246.94747596075325, 247.50867124638637]\n",
      "[236.28476553372585, 246.94747596075325, 247.50867124638637]\n",
      "[236.28476553372585, 246.94747596075325, 247.50867124638637]\n",
      "[236.28476553372585, 246.94747596075325, 247.50867124638637]\n",
      "[236.28476553372585, 246.94747596075325, 247.50867124638637]\n",
      "[236.28476553372585, 246.94747596075325, 247.50867124638637]\n",
      "[236.28476553372585, 246.94747596075325, 247.50867124638637]\n",
      "[236.28476553372585, 246.94747596075325, 247.50867124638637]\n",
      "[236.28476553372585, 246.94747596075325, 247.50867124638637]\n",
      "[236.28476553372585, 246.94747596075325, 247.50867124638637]\n",
      "[236.28476553372585, 246.94747596075325, 247.50867124638637]\n",
      "[236.28476553372585, 246.94747596075325, 247.50867124638637]\n",
      "[236.28476553372585, 246.94747596075325, 247.50867124638637]\n",
      "[236.28476553372585, 246.94747596075325, 247.50867124638637]\n",
      "[236.28476553372585, 246.94747596075325, 247.50867124638637]\n",
      "[236.28476553372585, 246.94747596075325, 247.50867124638637]\n",
      "[236.28476553372585, 246.94747596075325, 247.50867124638637]\n",
      "[236.28476553372585, 246.94747596075325, 247.50867124638637]\n",
      "[236.28476553372585, 246.94747596075325, 247.50867124638637]\n",
      "[236.28476553372585, 246.94747596075325, 247.50867124638637]\n",
      "[236.28476553372585, 246.94747596075325, 247.50867124638637]\n",
      "[236.28476553372585, 246.94747596075325, 247.50867124638637]\n",
      "[236.28476553372585, 246.38628067512022, 247.50867124638637]\n",
      "[236.28476553372585, 245.82508538948724, 247.50867124638637]\n",
      "[236.28476553372585, 243.5803042469551, 247.50867124638637]\n",
      "[236.28476553372585, 237.96835139062495, 247.50867124638634]\n",
      "[236.28476553372585, 236.28476553372585, 236.28476553372585]\n",
      "[236.28476553372585, 236.28476553372585, 236.28476553372585]\n",
      "[236.28476553372585, 236.28476553372585, 236.28476553372585]\n",
      "[236.28476553372585, 236.28476553372585, 236.28476553372585]\n",
      "[236.28476553372585, 236.28476553372585, 236.28476553372585]\n",
      "[236.28476553372585, 236.28476553372585, 236.28476553372585]\n",
      "[236.28476553372585, 236.28476553372585, 236.28476553372585]\n",
      "[236.28476553372585, 236.28476553372585, 236.28476553372585]\n",
      "[236.28476553372585, 236.28476553372585, 236.28476553372585]\n",
      "[236.28476553372585, 236.28476553372585, 236.28476553372585]\n",
      "[236.28476553372585, 236.28476553372585, 236.28476553372585]\n",
      "[236.28476553372585, 236.28476553372585, 236.28476553372585]\n",
      "[236.28476553372585, 236.28476553372585, 236.28476553372585]\n",
      "[236.28476553372585, 236.28476553372585, 236.28476553372585]\n",
      "[236.28476553372585, 236.28476553372585, 236.28476553372585]\n",
      "[236.28476553372585, 236.28476553372585, 236.28476553372585]\n",
      "[236.28476553372585, 236.28476553372585, 236.28476553372585]\n",
      "[236.28476553372585, 236.28476553372585, 236.28476553372585]\n",
      "[236.28476553372585, 236.28476553372585, 236.28476553372585]\n",
      "[236.28476553372585, 236.28476553372585, 236.28476553372585]\n",
      "[236.28476553372585, 236.28476553372585, 236.28476553372585]\n"
     ]
    }
   ],
   "source": [
    "###\n",
    "costMatrix = cm.getTutorialDistanceMatrix() ### 6 CITIES\n",
    "cities = 6\n",
    "mutationProbability = 1.0/6.0\n",
    "populationSize = 20\n",
    "generations = 50\n",
    "K=3\n",
    "population = getInitialPopulation(populationSize, cities, costMatrix)\n",
    "sortPopulation(population)\n",
    "\n",
    "for g in range(generations):\n",
    "    matingPool=getMatingPool(populationSize, populationSize, K)\n",
    "    children=getOffspring(population, matingPool, mutationProbability, costMatrix)\n",
    "    population=population+children\n",
    "    sortPopulation(population)\n",
    "    population=population[:len(population)//2]\n",
    "    print(getStats(population))\n",
    "    ### TODO"
   ]
  },
  {
   "cell_type": "markdown",
   "metadata": {},
   "source": [
    "# Part 2: Visualization of convergence"
   ]
  },
  {
   "cell_type": "markdown",
   "metadata": {},
   "source": [
    "2.1) Now, change the data set (distance matrix) to cm.getLargeDistanceMatrix. This instance concerns 15 cities. Run the evolutionary algorithm with a population size of 20 and the number of generation of 200 (and suitably adjust the mutation probability - 1.0/15.0). <br><br>\n",
    "**In each generation**, store the population statistics (min, mean, and max distances found, in, respectively, Y_MIN, Y_MEAN, Y_MAX). Then, use cm.plotConvergence(plt, X, Y_MIN, Y_MEAN, Y_MAX) - use append function - to display the convergence plot. Rerun the code for different parameters and observe the results. What is the best value (distance) you could find (print)? 354.91692584652503"
   ]
  },
  {
   "cell_type": "code",
   "execution_count": 38,
   "metadata": {},
   "outputs": [
    {
     "name": "stdout",
     "output_type": "stream",
     "text": [
      "431.41982714946954\n"
     ]
    },
    {
     "data": {
      "image/png": "[encoded data removed]",
      "text/plain": [
       "<Figure size 432x288 with 1 Axes>"
      ]
     },
     "metadata": {
      "needs_background": "light"
     },
     "output_type": "display_data"
    }
   ],
   "source": [
    "costMatrix = cm.getLargeDistanceMatrix() ### 15 CITIES\n",
    "cities = 15\n",
    "mutationProbability = 1.0/15.0\n",
    "populationSize = 20\n",
    "generations = 100\n",
    "\n",
    "population = getInitialPopulation(populationSize, cities, costMatrix)\n",
    "sortPopulation(population)\n",
    "X = [i for i in range(generations)]\n",
    "Y_MIN = []\n",
    "Y_MEAN = []\n",
    "Y_MAX = []\n",
    "### TODO\n",
    "for g in range(generations):\n",
    "    matingPool=getMatingPool(populationSize, populationSize, K)\n",
    "    children=getOffspring(population, matingPool, mutationProbability, costMatrix)\n",
    "    population=population+children\n",
    "    sortPopulation(population)\n",
    "    population=population[:len(population)//2]\n",
    "    Y_MIN.append(getStats(population)[0])\n",
    "    Y_MEAN.append(getStats(population)[1])\n",
    "    Y_MAX.append(getStats(population)[2])\n",
    "\n",
    "cm.plotConvergence(plt, X, Y_MIN, Y_MEAN, Y_MAX)\n",
    "print(Y_MIN[-1])"
   ]
  },
  {
   "cell_type": "markdown",
   "metadata": {},
   "source": [
    "You can verify the correctness of the generated plot with some example plot provided below. Note that there obviously may be some differences between these two. "
   ]
  },
  {
   "cell_type": "code",
   "execution_count": 15,
   "metadata": {},
   "outputs": [
    {
     "data": {
      "text/plain": [
       "<matplotlib.image.AxesImage at 0x1979493b220>"
      ]
     },
     "execution_count": 15,
     "metadata": {},
     "output_type": "execute_result"
    },
    {
     "data": {
      "image/png": "[encoded data removed]",
      "text/plain": [
       "<Figure size 432x288 with 1 Axes>"
      ]
     },
     "metadata": {
      "needs_background": "light"
     },
     "output_type": "display_data"
    }
   ],
   "source": [
    "plt.imshow(plt.imread(\"sr.png\"))"
   ]
  },
  {
   "cell_type": "markdown",
   "metadata": {},
   "source": [
    "2.2) Each time you rerun the code, while keeping the paramet values fixed, the results my slightly change. This is due to the random nature of evolutionary algorithms. Hence, in order to get the reliable results, the method must be run several times and the results have to be averaged. Do the following:<br>\n",
    "- run the method 20 times <br>\n",
    "- in each run: capture **the best result found (solution)**  in each generation (so it is like taking min values in the previously generated plot) <br>\n",
    "- **averaging over 20 runs:** for each generation, find min, mean, and max values <br>\n",
    "- use cm.plotConvergence to display the convergence\n",
    "- print the best value ever found "
   ]
  },
  {
   "cell_type": "code",
   "execution_count": 26,
   "metadata": {},
   "outputs": [
    {
     "name": "stdout",
     "output_type": "stream",
     "text": [
      "371.19319204320124\n"
     ]
    },
    {
     "data": {
      "image/png": "[encoded data removed]",
      "text/plain": [
       "<Figure size 432x288 with 1 Axes>"
      ]
     },
     "metadata": {
      "needs_background": "light"
     },
     "output_type": "display_data"
    }
   ],
   "source": [
    "### TODO\n",
    "X = [i for i in range(generations)]\n",
    "M_MIN=[]\n",
    "M_MEAN=[]\n",
    "M_MAX=[]\n",
    "Mini=[]\n",
    "for i in range(20):\n",
    "    population = getInitialPopulation(populationSize, cities, costMatrix)\n",
    "    sortPopulation(population)\n",
    "    Y_MIN = []\n",
    "    Y_MEAN = []\n",
    "    Y_MAX = []\n",
    "    for g in range(generations):\n",
    "        matingPool=getMatingPool(populationSize, populationSize, K)\n",
    "        children=getOffspring(population, matingPool, mutationProbability, costMatrix)\n",
    "        population=population+children\n",
    "        sortPopulation(population)\n",
    "        population=population[:len(population)//2]\n",
    "        Y_MIN.append(getStats(population)[0])\n",
    "        Y_MEAN.append(getStats(population)[1])\n",
    "        Y_MAX.append(getStats(population)[2])\n",
    "    Mini.append(Y_MIN[-1])\n",
    "    M_MIN.append(Y_MIN)\n",
    "    M_MEAN.append(Y_MEAN)\n",
    "    M_MAX.append(Y_MAX)\n",
    "Y_MIN = []\n",
    "Y_MEAN = []\n",
    "Y_MAX = []\n",
    "for i in range(generations):\n",
    "    Y_MIN.append(min([run[i] for run in M_MIN]))\n",
    "    Y_MEAN.append(sum([run[i] for run in M_MEAN])/20)\n",
    "    Y_MAX.append(max([run[i] for run in M_MAX]))\n",
    "print(min(Mini))\n",
    "cm.plotConvergence(plt, X, Y_MIN, Y_MEAN, Y_MAX)\n"
   ]
  },
  {
   "cell_type": "markdown",
   "metadata": {},
   "source": [
    "You can verify the correctness of the generated plot with some example plot provided below. Note that there obviously may be some differences between these two. "
   ]
  },
  {
   "cell_type": "code",
   "execution_count": 17,
   "metadata": {},
   "outputs": [
    {
     "data": {
      "text/plain": [
       "<matplotlib.image.AxesImage at 0x197948266d0>"
      ]
     },
     "execution_count": 17,
     "metadata": {},
     "output_type": "execute_result"
    },
    {
     "data": {
      "image/png": "[encoded data removed]",
      "text/plain": [
       "<Figure size 432x288 with 1 Axes>"
      ]
     },
     "metadata": {
      "needs_background": "light"
     },
     "output_type": "display_data"
    }
   ],
   "source": [
    "plt.imshow(plt.imread(\"mr.png\"))"
   ]
  },
  {
   "cell_type": "markdown",
   "metadata": {},
   "source": [
    "# Part 3: Impact of different parameter values on the optimization"
   ]
  },
  {
   "cell_type": "markdown",
   "metadata": {},
   "source": [
    "In this exercise, you are asked to check how the method performs for different parameter values. Evaluate the performance in terms of different population sizes. Specifically, check how the method performs for the population size = 5, 10, 20, and 50. Display 4 convergence plots - defined as in exercise 2.2 - in a single chart or in separate plots. **Discuss the obtained results**."
   ]
  },
  {
   "cell_type": "code",
   "execution_count": 18,
   "metadata": {},
   "outputs": [],
   "source": [
    "### TODO"
   ]
  }
 ],
 "metadata": {
  "kernelspec": {
   "display_name": "Python 3",
   "language": "python",
   "name": "python3"
  },
  "language_info": {
   "codemirror_mode": {
    "name": "ipython",
    "version": 3
   },
   "file_extension": ".py",
   "mimetype": "text/x-python",
   "name": "python",
   "nbconvert_exporter": "python",
   "pygments_lexer": "ipython3",
   "version": "3.8.3"
  }
 },
 "nbformat": 4,
 "nbformat_minor": 4
}
